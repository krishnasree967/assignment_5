{
 "cells": [
  {
   "cell_type": "code",
   "execution_count": 7,
   "metadata": {},
   "outputs": [
    {
     "name": "stdout",
     "output_type": "stream",
     "text": [
      "35\n"
     ]
    }
   ],
   "source": [
    "# square numbers :\n",
    "\n",
    "class Point:\n",
    "\n",
    "    def __init__(self, x, y, z):\n",
    "        self.x = x\n",
    "        self.y = y\n",
    "        self.z = z\n",
    "\n",
    "    def sqSum(self):\n",
    "        return self.x**2 + self.y**2 + self.z**2\n",
    "\n",
    "\n",
    "sample_point = Point(1, 3, 5)\n",
    "result = sample_point.sqSum()\n",
    "print(result)"
   ]
  },
  {
   "cell_type": "code",
   "execution_count": 8,
   "metadata": {},
   "outputs": [
    {
     "name": "stdout",
     "output_type": "stream",
     "text": [
      "104\n",
      "84\n",
      "940\n",
      "0.10638297872340426\n"
     ]
    }
   ],
   "source": [
    "# implement a class calculator:\n",
    "\n",
    "class Calculator:\n",
    "\n",
    "    def __init__(self, num1, num2):\n",
    "        self.num1 = num1\n",
    "        self.num2 = num2\n",
    "\n",
    "    def add(self):\n",
    "        return self.num1 + self.num2\n",
    "\n",
    "    def subtract(self):\n",
    "        return self.num2 - self.num1\n",
    "\n",
    "    def multiply(self):\n",
    "        return self.num1 * self.num2\n",
    "\n",
    "    def divide(self):\n",
    "        return self.num1 / self.num2\n",
    "\n",
    "obj = Calculator(10, 94)\n",
    "\n",
    "print(f\"{obj.add()}\")        \n",
    "print(f\"{obj.subtract()}\")   \n",
    "print(f\"{obj.multiply()}\")   \n",
    "print(f\"{obj.divide()}\")  "
   ]
  },
  {
   "cell_type": "code",
   "execution_count": 9,
   "metadata": {},
   "outputs": [
    {
     "name": "stdout",
     "output_type": "stream",
     "text": [
      "Student name is: krishna\n",
      "Student Roll no is: 92\n"
     ]
    }
   ],
   "source": [
    "# complete student class:\n",
    "\n",
    "class Student:\n",
    "\n",
    "    def __init__(self):\n",
    "       \n",
    "        self.name = None\n",
    "        self.rollNumber = None\n",
    "\n",
    "    def getName(self):\n",
    "        return self.name\n",
    "\n",
    "    def setName(self, name):\n",
    "        self.name = name\n",
    "\n",
    "    def getRollNumber(self):\n",
    "        return self.rollNumber\n",
    "\n",
    "    def setRollNumber(self, rollNumber):\n",
    "        self.rollNumber = rollNumber\n",
    "\n",
    "object = Student()\n",
    "\n",
    "object.setName(\"krishna\")\n",
    "\n",
    "name = object.getName()\n",
    "print(f\"Student name is: {name}\") \n",
    "\n",
    "object.setRollNumber(92)\n",
    "\n",
    "rollNumber = object.getRollNumber()\n",
    "print(f\"Student Roll no is: {rollNumber}\") "
   ]
  },
  {
   "cell_type": "code",
   "execution_count": 10,
   "metadata": {},
   "outputs": [
    {
     "name": "stdout",
     "output_type": "stream",
     "text": [
      "Title Name : Ashish \n",
      "Total Account Balance : 5000\n",
      "Interest Rate : 5\n"
     ]
    }
   ],
   "source": [
    "# Bank Account:\n",
    "\n",
    "class Account:\n",
    "\n",
    "    def __init__(self, title = None , balance= 0 ):\n",
    "        self.title = title\n",
    "        self.balance = balance\n",
    "\n",
    "class SavingsAccount(Account):\n",
    "\n",
    "    def __init__(self, title, balance, interestRate):\n",
    "        super().__init__(title, balance)\n",
    "        \n",
    "        self.interestRate = interestRate\n",
    "\n",
    "account = Account(\"Ashish\", 5000)\n",
    "\n",
    "savings_account = SavingsAccount(\"Ashish\", 5000, 5) \n",
    "\n",
    "print(f\"Title Name : {savings_account.title} \")\n",
    "print(f\"Total Account Balance : {savings_account.balance}\")\n",
    "print(f\"Interest Rate : {savings_account.interestRate}\")"
   ]
  },
  {
   "cell_type": "code",
   "execution_count": 11,
   "metadata": {},
   "outputs": [
    {
     "name": "stdout",
     "output_type": "stream",
     "text": [
      "Initial Balance: 2000\n",
      "After depositing 500: 2500\n",
      "After withdrawing 500: 2000\n",
      "Interest Amount: 100.0\n"
     ]
    }
   ],
   "source": [
    "#Handling a bank account:\n",
    "\n",
    "class account:\n",
    "    def __init__(self,balance=0,title=None,amount=0):\n",
    "        self.title = title\n",
    "        self.balance = balance\n",
    "        self.amount = amount\n",
    "        \n",
    "    def deposit(self,amount):\n",
    "        self.balance = self.balance + amount\n",
    "        \n",
    "    def withdrawal(self,amount):\n",
    "        self.balance = self.balance - amount\n",
    "        \n",
    "    def get_balance(self):\n",
    "        return self.balance\n",
    "\n",
    "class savingsAccount(account):\n",
    "    def __init__(self,balance = 0,title = None,interestRate = 0):\n",
    "        super().__init__(title,balance)\n",
    "        \n",
    "        self.interestRate = interestRate\n",
    "\n",
    "    def interestAmount(self):\n",
    "        return (self.interestRate * self.balance) / 100\n",
    "\n",
    "demo1 = savingsAccount(\"Ashish\", 2000, 5) \n",
    "\n",
    "print(\"Initial Balance:\", demo1.get_balance()) \n",
    "\n",
    "demo1.deposit(500)\n",
    "print(\"After depositing 500:\", demo1.get_balance()) \n",
    "\n",
    "demo1.withdrawal(500)\n",
    "print(\"After withdrawing 500:\", demo1.get_balance())  \n",
    "\n",
    "print(\"Interest Amount:\", demo1.interestAmount())  "
   ]
  }
 ],
 "metadata": {
  "kernelspec": {
   "display_name": "Python 3",
   "language": "python",
   "name": "python3"
  },
  "language_info": {
   "codemirror_mode": {
    "name": "ipython",
    "version": 3
   },
   "file_extension": ".py",
   "mimetype": "text/x-python",
   "name": "python",
   "nbconvert_exporter": "python",
   "pygments_lexer": "ipython3",
   "version": "3.12.0"
  }
 },
 "nbformat": 4,
 "nbformat_minor": 2
}
